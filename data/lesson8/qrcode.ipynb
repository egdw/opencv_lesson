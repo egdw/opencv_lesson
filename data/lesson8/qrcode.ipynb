{
 "cells": [
  {
   "cell_type": "code",
   "execution_count": 1,
   "outputs": [],
   "source": [
    "import cv2\n",
    "import numpy as np\n",
    "import matplotlib.pyplot as plt # matplotlib库用于绘图展示\n",
    "# 魔法指令，直接展示图，Jupyter notebook特有\n",
    "%matplotlib inline"
   ],
   "metadata": {
    "collapsed": false,
    "pycharm": {
     "name": "#%%\n"
    }
   }
  },
  {
   "cell_type": "code",
   "execution_count": 3,
   "outputs": [
    {
     "data": {
      "text/plain": "<matplotlib.image.AxesImage at 0x166b80d30>"
     },
     "execution_count": 3,
     "metadata": {},
     "output_type": "execute_result"
    },
    {
     "data": {
      "text/plain": "<Figure size 432x288 with 1 Axes>",
      "image/png": "[encoded data removed]"
     },
     "metadata": {
      "needs_background": "light"
     },
     "output_type": "display_data"
    }
   ],
   "source": [
    "img = cv2.imread(\"二维码.png\")\n",
    "plt.imshow(img)"
   ],
   "metadata": {
    "collapsed": false,
    "pycharm": {
     "name": "#%%\n"
    }
   }
  },
  {
   "cell_type": "code",
   "execution_count": 13,
   "outputs": [],
   "source": [
    "detector = cv2.QRCodeDetector()"
   ],
   "metadata": {
    "collapsed": false,
    "pycharm": {
     "name": "#%%\n"
    }
   }
  },
  {
   "cell_type": "code",
   "execution_count": 15,
   "outputs": [
    {
     "data": {
      "text/plain": "(True,\n array([[[ 10.,  10.],\n         [290.,  10.],\n         [290., 290.],\n         [ 10., 290.]]], dtype=float32))"
     },
     "execution_count": 15,
     "metadata": {},
     "output_type": "execute_result"
    }
   ],
   "source": [
    "points = detector.detect(img)\n",
    "points"
   ],
   "metadata": {
    "collapsed": false,
    "pycharm": {
     "name": "#%%\n"
    }
   }
  },
  {
   "cell_type": "code",
   "execution_count": 24,
   "outputs": [
    {
     "ename": "error",
     "evalue": "OpenCV(4.5.5) :-1: error: (-5:Bad argument) in function 'decode'\n> Overload resolution failed:\n>  - points data type = 17 is not supported\n>  - Expected Ptr<cv::UMat> for argument 'points'\n",
     "output_type": "error",
     "traceback": [
      "\u001B[0;31m---------------------------------------------------------------------------\u001B[0m",
      "\u001B[0;31merror\u001B[0m                                     Traceback (most recent call last)",
      "Input \u001B[0;32mIn [24]\u001B[0m, in \u001B[0;36m<cell line: 1>\u001B[0;34m()\u001B[0m\n\u001B[0;32m----> 1\u001B[0m result \u001B[38;5;241m=\u001B[39m \u001B[43mdetector\u001B[49m\u001B[38;5;241;43m.\u001B[39;49m\u001B[43mdecode\u001B[49m\u001B[43m(\u001B[49m\u001B[43mimg\u001B[49m\u001B[38;5;241;43m=\u001B[39;49m\u001B[43mimg\u001B[49m\u001B[43m,\u001B[49m\u001B[43mpoints\u001B[49m\u001B[38;5;241;43m=\u001B[39;49m\u001B[43mnp\u001B[49m\u001B[38;5;241;43m.\u001B[39;49m\u001B[43marray\u001B[49m\u001B[43m(\u001B[49m\u001B[43mpoints\u001B[49m\u001B[43m)\u001B[49m\u001B[43m)\u001B[49m\n\u001B[1;32m      2\u001B[0m \u001B[38;5;28mprint\u001B[39m(result)\n",
      "\u001B[0;31merror\u001B[0m: OpenCV(4.5.5) :-1: error: (-5:Bad argument) in function 'decode'\n> Overload resolution failed:\n>  - points data type = 17 is not supported\n>  - Expected Ptr<cv::UMat> for argument 'points'\n"
     ]
    }
   ],
   "source": [
    "result = detector.decode(img=img,points=points)\n",
    "print(result)"
   ],
   "metadata": {
    "collapsed": false,
    "pycharm": {
     "name": "#%%\n"
    }
   }
  },
  {
   "cell_type": "code",
   "execution_count": 21,
   "outputs": [
    {
     "data": {
      "text/plain": "('杭州科技职业技术学院',\n array([[[ 10.,  10.],\n         [290.,  10.],\n         [290., 290.],\n         [ 10., 290.]]], dtype=float32),\n array([[  0,   0,   0,   0,   0,   0,   0, 255, 255, 255,   0,   0,   0,\n           0, 255, 255,   0, 255,   0,   0,   0,   0,   0,   0,   0],\n        [  0, 255, 255, 255, 255, 255,   0, 255, 255, 255, 255, 255,   0,\n         255, 255, 255, 255, 255,   0, 255, 255, 255, 255, 255,   0],\n        [  0, 255,   0,   0,   0, 255,   0, 255,   0, 255,   0, 255,   0,\n           0,   0, 255,   0, 255,   0, 255,   0,   0,   0, 255,   0],\n        [  0, 255,   0,   0,   0, 255,   0, 255, 255,   0, 255, 255,   0,\n         255,   0, 255,   0, 255,   0, 255,   0,   0,   0, 255,   0],\n        [  0, 255,   0,   0,   0, 255,   0, 255, 255,   0,   0, 255,   0,\n         255,   0,   0,   0, 255,   0, 255,   0,   0,   0, 255,   0],\n        [  0, 255, 255, 255, 255, 255,   0, 255, 255, 255,   0, 255,   0,\n         255,   0, 255, 255, 255,   0, 255, 255, 255, 255, 255,   0],\n        [  0,   0,   0,   0,   0,   0,   0, 255,   0, 255,   0, 255,   0,\n         255,   0, 255,   0, 255,   0,   0,   0,   0,   0,   0,   0],\n        [255, 255, 255, 255, 255, 255, 255, 255,   0, 255, 255,   0, 255,\n         255, 255,   0,   0, 255, 255, 255, 255, 255, 255, 255, 255],\n        [  0,   0,   0, 255,   0,   0,   0,   0,   0, 255, 255,   0,   0,\n         255,   0, 255,   0,   0,   0, 255, 255, 255,   0, 255, 255],\n        [  0, 255,   0, 255,   0,   0, 255,   0,   0,   0, 255, 255,   0,\n         255, 255, 255,   0,   0,   0, 255,   0, 255,   0,   0,   0],\n        [255,   0, 255,   0,   0, 255,   0, 255, 255, 255,   0,   0,   0,\n           0,   0,   0,   0,   0,   0,   0,   0,   0,   0, 255, 255],\n        [  0, 255,   0, 255,   0,   0, 255, 255,   0,   0,   0, 255,   0,\n         255, 255,   0,   0,   0,   0,   0, 255, 255,   0, 255, 255],\n        [  0,   0, 255, 255,   0, 255,   0, 255, 255, 255,   0, 255,   0,\n         255,   0,   0,   0, 255, 255,   0,   0, 255, 255,   0, 255],\n        [255,   0, 255, 255,   0,   0, 255,   0, 255,   0,   0, 255, 255,\n           0, 255,   0, 255,   0, 255,   0,   0, 255, 255, 255, 255],\n        [  0, 255, 255, 255, 255,   0,   0, 255,   0, 255,   0,   0, 255,\n         255,   0,   0, 255, 255, 255,   0, 255,   0,   0, 255, 255],\n        [255,   0,   0,   0, 255,   0, 255, 255,   0, 255, 255,   0,   0,\n         255, 255,   0, 255,   0,   0, 255, 255,   0,   0,   0,   0],\n        [  0, 255, 255,   0,   0,   0,   0, 255,   0,   0, 255,   0,   0,\n           0, 255, 255,   0,   0,   0,   0,   0,   0, 255,   0,   0],\n        [255, 255, 255, 255, 255, 255, 255, 255,   0,   0,   0, 255, 255,\n           0, 255,   0,   0, 255, 255, 255,   0, 255, 255,   0,   0],\n        [  0,   0,   0,   0,   0,   0,   0, 255,   0,   0,   0,   0, 255,\n           0, 255, 255,   0, 255,   0, 255,   0,   0, 255,   0, 255],\n        [  0, 255, 255, 255, 255, 255,   0, 255,   0, 255, 255,   0,   0,\n         255, 255,   0,   0, 255, 255, 255,   0,   0,   0,   0,   0],\n        [  0, 255,   0,   0,   0, 255,   0, 255,   0, 255,   0, 255,   0,\n         255,   0,   0,   0,   0,   0,   0,   0,   0,   0,   0, 255],\n        [  0, 255,   0,   0,   0, 255,   0, 255, 255, 255, 255, 255,   0,\n         255,   0,   0, 255,   0,   0,   0,   0, 255,   0, 255, 255],\n        [  0, 255,   0,   0,   0, 255,   0, 255,   0,   0,   0,   0, 255,\n         255, 255, 255, 255, 255,   0, 255, 255, 255, 255, 255,   0],\n        [  0, 255, 255, 255, 255, 255,   0, 255,   0, 255,   0, 255,   0,\n         255, 255,   0,   0,   0, 255, 255,   0, 255,   0,   0, 255],\n        [  0,   0,   0,   0,   0,   0,   0, 255,   0, 255, 255,   0,   0,\n           0,   0,   0, 255, 255,   0,   0,   0, 255, 255,   0,   0]],\n       dtype=uint8))"
     },
     "execution_count": 21,
     "metadata": {},
     "output_type": "execute_result"
    }
   ],
   "source": [
    "points = detector.detectAndDecode(img)\n",
    "points"
   ],
   "metadata": {
    "collapsed": false,
    "pycharm": {
     "name": "#%%\n"
    }
   }
  },
  {
   "cell_type": "code",
   "execution_count": 22,
   "outputs": [
    {
     "data": {
      "text/plain": "('', None, None)"
     },
     "execution_count": 22,
     "metadata": {},
     "output_type": "execute_result"
    }
   ],
   "source": [
    "points = detector.detectAndDecode(cv2.imread(\"WechatIMG244.jpeg\"))\n",
    "points"
   ],
   "metadata": {
    "collapsed": false,
    "pycharm": {
     "name": "#%%\n"
    }
   }
  },
  {
   "cell_type": "code",
   "execution_count": null,
   "outputs": [],
   "source": [],
   "metadata": {
    "collapsed": false,
    "pycharm": {
     "name": "#%%\n"
    }
   }
  }
 ],
 "metadata": {
  "kernelspec": {
   "display_name": "Python 3",
   "language": "python",
   "name": "python3"
  },
  "language_info": {
   "codemirror_mode": {
    "name": "ipython",
    "version": 2
   },
   "file_extension": ".py",
   "mimetype": "text/x-python",
   "name": "python",
   "nbconvert_exporter": "python",
   "pygments_lexer": "ipython2",
   "version": "2.7.6"
  }
 },
 "nbformat": 4,
 "nbformat_minor": 0
}