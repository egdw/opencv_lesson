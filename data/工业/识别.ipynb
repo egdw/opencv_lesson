{
  "nbformat": 4,
  "nbformat_minor": 0,
  "metadata": {
    "colab": {
      "provenance": [],
      "collapsed_sections": []
    },
    "kernelspec": {
      "name": "python3",
      "display_name": "Python 3"
    },
    "language_info": {
      "name": "python"
    }
  },
  "cells": [
    {
      "cell_type": "markdown",
      "source": [
        "# 下载图像"
      ],
      "metadata": {
        "id": "SIA8uVr70Vl1"
      }
    },
    {
      "cell_type": "code",
      "execution_count": null,
      "metadata": {
        "id": "kNOSmVP-z79m"
      },
      "outputs": [],
      "source": [
        "!wget https://github.com/egdw/opencv_lesson/blob/test/data/%E5%B7%A5%E4%B8%9A/data/real/img.png?raw=true\n",
        "!wget https://github.com/egdw/opencv_lesson/blob/test/data/%E5%B7%A5%E4%B8%9A/data/real/img_1.png?raw=true\n",
        "!wget https://github.com/egdw/opencv_lesson/blob/test/data/%E5%B7%A5%E4%B8%9A/data/real/img_2.png?raw=true\n",
        "!wget https://github.com/egdw/opencv_lesson/blob/test/data/%E5%B7%A5%E4%B8%9A/data/real/img_3.png?raw=true\n",
        "!wget https://github.com/egdw/opencv_lesson/blob/test/data/%E5%B7%A5%E4%B8%9A/data/real/img_4.png?raw=true"
      ]
    },
    {
      "cell_type": "code",
      "source": [
        "import cv2 as cv\n",
        "from google.colab.patches import cv2_imshow as imshow\n",
        "import numpy as np\n",
        "\n",
        "# 传入矩阵四个坐标，分别返回左上、右上、左下，右下坐标\n",
        "def return_rect_position(positions):\n",
        "  positions = np.array(positions)\n",
        "  x_min = np.min(positions[:,0])\n",
        "  x_avg = np.average(positions[:,0])\n",
        "  x_max = np.max(positions[:,0])\n",
        "  y_min = np.min(positions[:,1])\n",
        "  y_avg = np.average(positions[:,1])\n",
        "  y_max = np.max(positions[:,1])\n",
        "  print(positions[:,1])\n",
        "  print(x_min,x_max,y_min,y_max)\n",
        "  left_top = None\n",
        "  right_top = None\n",
        "  left_bottem = None\n",
        "  right_bottem = None\n",
        "  for position in positions:\n",
        "    if position[1] < y_avg:\n",
        "      # 说明在上方\n",
        "      if position[0] <x_avg:\n",
        "        left_top = position\n",
        "      else:\n",
        "        right_top = position\n",
        "    else:\n",
        "      # 说明在下方\n",
        "      if position[0] < x_avg:\n",
        "        left_bottem = position\n",
        "      else:\n",
        "        right_bottem = position\n",
        "\n",
        "  return left_top,right_top,left_bottem,right_bottem\n",
        "\n",
        "\n",
        "arr = [[ 18.987633,118.311195],[ 20.,10.999995]\n",
        " ,[ 96.73844,11.723946]\n",
        " ,[ 95.726074,119.03515 ]]\n",
        "print(return_rect_position(arr))"
      ],
      "metadata": {
        "colab": {
          "base_uri": "https://localhost:8080/"
        },
        "id": "ZF_l2D-q0ejl",
        "outputId": "9c836d57-e121-45ee-fa67-08228c2e52af"
      },
      "execution_count": 357,
      "outputs": [
        {
          "output_type": "stream",
          "name": "stdout",
          "text": [
            "[118.311195  10.999995  11.723946 119.03515 ]\n",
            "18.987633 96.73844 10.999995 119.03515\n",
            "(array([20.      , 10.999995]), array([96.73844 , 11.723946]), array([ 18.987633, 118.311195]), array([ 95.726074, 119.03515 ]))\n"
          ]
        }
      ]
    },
    {
      "cell_type": "code",
      "source": [
        "img = cv.imread(\"img_2.png?raw=true\")\n",
        "gray = cv.cvtColor(img,cv.COLOR_BGR2GRAY)\n",
        "# gray = cv.equalizeHist(gray) # 直方图均衡化，使得对比度增强。\n",
        "# dilate_img = cv.dilate(gray, (5, 5), iterations=15)\n",
        "# erode_img = cv.erode(dilate_img, (3, 3), iterations=3)\n",
        "# imshow(dilate_img)\n",
        "threshold = cv.adaptiveThreshold(gray,255,cv.ADAPTIVE_THRESH_MEAN_C ,cv.THRESH_BINARY, 41, 6) # 自适应阈值，主要解决各种光线和亮度问题\n",
        "kernel = cv.getStructuringElement(cv.MORPH_ELLIPSE, (3, 3))\n",
        "# threshold = cv.dilate(threshold, kernel,30)\n",
        "threshold = cv.morphologyEx(threshold, cv.MORPH_OPEN, kernel)\n",
        "# threshold = cv.morphologyEx(threshold, cv.MORPH_OPEN, kernel)\n",
        "# threshold = cv.morphologyEx(threshold, cv.MORPH_OPEN, kernel)\n",
        "\n",
        "backtorgb = cv.cvtColor(threshold,cv.COLOR_GRAY2RGB) # 将阈值后的数据转回三通道图片\n",
        "bin = cv.Canny(threshold, 0, 100, apertureSize=3) # 边缘算法\n",
        "\n",
        "imshow(threshold)\n",
        "imshow(bin)\n",
        "imshow(backtorgb)"
      ],
      "metadata": {
        "colab": {
          "base_uri": "https://localhost:8080/",
          "height": 1000
        },
        "id": "IkxwO2we7Q4O",
        "outputId": "43febd6b-1599-4d2f-e14e-63e4d6c977f7"
      },
      "execution_count": 506,
      "outputs": [
        {
          "output_type": "display_data",
          "data": {
            "text/plain": [
              "<PIL.Image.Image image mode=L size=800x600 at 0x7FAB25BBA9D0>"
            ],
            "image/png": "[encoded data removed]"
          },
          "metadata": {}
        },
        {
          "output_type": "display_data",
          "data": {
            "text/plain": [
              "<PIL.Image.Image image mode=L size=800x600 at 0x7FAB25BBA890>"
            ],
            "image/png": "[encoded data removed]"
          },
          "metadata": {}
        },
        {
          "output_type": "display_data",
          "data": {
            "text/plain": [
              "<PIL.Image.Image image mode=RGB size=800x600 at 0x7FAB25BBA250>"
            ],
            "image/png": "[encoded data removed]"
          },
          "metadata": {}
        }
      ]
    },
    {
      "cell_type": "markdown",
      "source": [
        "# 定位零件整体位置，并对其进行自动调整分布"
      ],
      "metadata": {
        "id": "WJNOtm7T1P0O"
      }
    },
    {
      "cell_type": "code",
      "source": [
        "img = cv.imread(\"img_2.png?raw=true\")\n",
        "img_width = img.shape[0]\n",
        "img_height = img.shape[1]\n",
        "\n",
        "# 灰度化\n",
        "gray = cv.cvtColor(img,cv.COLOR_BGR2GRAY)\n",
        "threshold = cv.adaptiveThreshold(gray,255,cv.ADAPTIVE_THRESH_MEAN_C ,cv.THRESH_BINARY, 41, 6) # 自适应阈值，主要解决各种光线和亮度问题\n",
        "# 开运算\n",
        "kernel = cv.getStructuringElement(cv.MORPH_ELLIPSE, (3, 3))\n",
        "threshold = cv.morphologyEx(threshold, cv.MORPH_OPEN, kernel)\n",
        "\n",
        "\n",
        "img = cv.cvtColor(threshold,cv.COLOR_GRAY2BGR) # 将阈值后的数据转回三通道图片\n",
        "\n",
        "imshow(img)\n",
        "img = cv.cvtColor(img, cv.COLOR_BGR2RGB)\n",
        "gray = cv.cvtColor(img, cv.COLOR_RGB2GRAY)\n",
        "\n",
        "\n",
        "# sobel 算法，提取矩阵轮廓\n",
        "# img_blur = cv.GaussianBlur(threshold, (5, 5), 0)\n",
        "bin = cv.Canny(gray, 0, 100, apertureSize=3)\n",
        "\n",
        "imshow(bin)\n",
        "\n",
        "# 找到外部的矩形\n",
        "contoures, _ = cv.findContours(bin, cv.RETR_TREE, cv.CHAIN_APPROX_SIMPLE)\n",
        "rect_locations = None\n",
        "for cnt in contoures:\n",
        "  cnt_len = cv.arcLength(cnt, True)  # 计算轮廓周长\n",
        "  cnt = cv.approxPolyDP(cnt, 0.02 * cnt_len, True)  # 多边形逼近\n",
        "  # if cv.contourArea(cnt) > 1000 and cv.isContourConvex(cnt):\n",
        "  # print(cv.contourArea(cnt))\n",
        "  if cv.contourArea(cnt) > 40000:\n",
        "      cnt = cv.minAreaRect(cnt)\n",
        "      data = np.array(cv.boxPoints(cnt), int)\n",
        "      cnt = cv.boxPoints(cnt)\n",
        "      rect_locations = cnt\n",
        "      # cv.circle(img, data[0], radius=20, color=(255, 255, 0), thickness=10)\n",
        "      # cv.circle(img, data[1], radius=20, color=(255, 255, 0), thickness=10)\n",
        "      # cv.circle(img, data[2], radius=20, color=(255, 255, 0), thickness=10)\n",
        "      # cv.circle(img, data[3], radius=20, color=(255, 255, 0), thickness=10)\n",
        "      break\n",
        "\n",
        "# 透视变换\n",
        "# 判断图片的长宽比，对齐进行自动调整。\n",
        "if rect_locations is None:\n",
        "    # 尝试对图片进行旋转\n",
        "    rows, cols, channels = img.shape\n",
        "    rotate = cv.getRotationMatrix2D((rows*0.5, cols*0.5), 45, 1)\n",
        "    img = cv.warpAffine(img, rotate, (cols, rows))\n",
        "    img = cv.cvtColor(img, cv.COLOR_BGR2RGB)\n",
        "\n",
        "    gray = cv.cvtColor(img, cv.COLOR_RGB2GRAY)\n",
        "    gray = cv.adaptiveThreshold(gray,255,cv.ADAPTIVE_THRESH_MEAN_C ,cv.THRESH_BINARY, 41, 6)\n",
        "    # sobel 算法，提取矩阵轮廓\n",
        "    img_blur = cv.GaussianBlur(gray, (5, 5), 0)\n",
        "    bin = cv.Canny(img_blur, 0, 100, apertureSize=3)\n",
        "    imshow(img)\n",
        "    print(\"查找失败！尝试对图片进行旋转，在进行尝试。\")\n",
        "    # 找到外部的矩形\n",
        "    contoures, _ = cv.findContours(bin, cv.RETR_TREE, cv.CHAIN_APPROX_SIMPLE)\n",
        "    rect_locations = None\n",
        "    for cnt in contoures:\n",
        "      cnt_len = cv.arcLength(cnt, True)  # 计算轮廓周长\n",
        "      cnt = cv.approxPolyDP(cnt, 0.02 * cnt_len, True)  # 多边形逼近\n",
        "      # if cv.contourArea(cnt) > 1000 and cv.isContourConvex(cnt):\n",
        "      # print(cv.contourArea(cnt))\n",
        "      if cv.contourArea(cnt) > 40000:\n",
        "          cnt = cv.minAreaRect(cnt)\n",
        "          data = np.array(cv.boxPoints(cnt), int)\n",
        "          cnt = cv.boxPoints(cnt)\n",
        "          rect_locations = cnt\n",
        "          # cv.circle(img, data[0], radius=20, color=(255, 255, 0), thickness=10)\n",
        "          # cv.circle(img, data[1], radius=20, color=(255, 255, 0), thickness=10)\n",
        "          # cv.circle(img, data[2], radius=20, color=(255, 255, 0), thickness=10)\n",
        "          # cv.circle(img, data[3], radius=20, color=(255, 255, 0), thickness=10)\n",
        "          break\n",
        "    if rect_locations is None:\n",
        "      print(\"查找失败\")\n",
        "    else:\n",
        "      print(\"查找成功\")\n",
        "      box_width = int(np.sqrt(\n",
        "        (rect_locations[1][0] - rect_locations[2][0]) ** 2 + (rect_locations[1][1] - rect_locations[2][1]) ** 2))\n",
        "      box_height = int(np.sqrt(\n",
        "          (rect_locations[1][0] - rect_locations[0][0]) ** 2 + (rect_locations[1][1] - rect_locations[0][1]) ** 2))\n",
        "      print(box_width, box_height)\n",
        "      perspectiveTransform = cv.getPerspectiveTransform(\n",
        "          np.float32([rect_locations[1], rect_locations[2], rect_locations[0], rect_locations[3]]).squeeze()\n",
        "          , np.float32([[0, 0],\n",
        "                        [box_width, 0],\n",
        "                        [0, box_height],\n",
        "                        [box_width, box_height]]))\n",
        "      warped = cv.warpPerspective(img, perspectiveTransform, (box_width, box_height))\n",
        "      if box_width < box_height:  # 说明是竖着的\n",
        "          # 进行转置。\n",
        "          warped = cv.rotate(warped, cv.ROTATE_90_COUNTERCLOCKWISE)\n",
        "else:\n",
        "    box_width = int(np.sqrt(\n",
        "        (rect_locations[1][0] - rect_locations[2][0]) ** 2 + (rect_locations[1][1] - rect_locations[2][1]) ** 2))\n",
        "    box_height = int(np.sqrt(\n",
        "        (rect_locations[1][0] - rect_locations[0][0]) ** 2 + (rect_locations[1][1] - rect_locations[0][1]) ** 2))\n",
        "    print(box_width, box_height)\n",
        "    perspectiveTransform = cv.getPerspectiveTransform(\n",
        "        np.float32([rect_locations[1], rect_locations[2], rect_locations[0], rect_locations[3]]).squeeze()\n",
        "        , np.float32([[0, 0],\n",
        "                      [box_width, 0],\n",
        "                      [0, box_height],\n",
        "                      [box_width, box_height]]))\n",
        "    warped = cv.warpPerspective(img, perspectiveTransform, (box_width, box_height))\n",
        "    if box_width < box_height:  # 说明是竖着的\n",
        "        # 进行旋转。\n",
        "        warped = cv.rotate(warped, cv.ROTATE_90_COUNTERCLOCKWISE)\n",
        "\n",
        "origin_wapred = warped\n",
        "imshow(warped)"
      ],
      "metadata": {
        "colab": {
          "base_uri": "https://localhost:8080/",
          "height": 1000
        },
        "id": "2kAILgGF0qMV",
        "outputId": "096c2a18-1728-4e17-cb78-bbe8eb97e406"
      },
      "execution_count": 508,
      "outputs": [
        {
          "output_type": "display_data",
          "data": {
            "text/plain": [
              "<PIL.Image.Image image mode=RGB size=800x600 at 0x7FAB25B6A7D0>"
            ],
            "image/png": "[encoded data removed]"
          },
          "metadata": {}
        },
        {
          "output_type": "display_data",
          "data": {
            "text/plain": [
              "<PIL.Image.Image image mode=L size=800x600 at 0x7FAB25B6A950>"
            ],
            "image/png": "[encoded data removed]"
          },
          "metadata": {}
        },
        {
          "output_type": "stream",
          "name": "stdout",
          "text": [
            "185 290\n"
          ]
        },
        {
          "output_type": "display_data",
          "data": {
            "text/plain": [
              "<PIL.Image.Image image mode=RGB size=290x185 at 0x7FAB25B6A950>"
            ],
            "image/png": "[encoded data removed]"
          },
          "metadata": {}
        }
      ]
    },
    {
      "cell_type": "markdown",
      "source": [
        "# 找到大圆、小圆的位置，并且使得小圆总是出现在右下角\n",
        "\n",
        "这里实现的思路其实就是对小圆位置定位后，通过旋转或者图像翻转实现使得小圆始终处右下角"
      ],
      "metadata": {
        "id": "gDrOBRcd100v"
      }
    },
    {
      "cell_type": "code",
      "source": [
        "# 找小圆，确定当前的位置\n",
        "warped = origin_wapred.copy()\n",
        "# warped_gray = cv.cvtColor(warped, cv.COLOR_BGR2GRAY)\n",
        "# warped_gray = cv.adaptiveThreshold(warped_gray,255,cv.ADAPTIVE_THRESH_MEAN_C ,cv.THRESH_BINARY, 41, 6)\n",
        "\n",
        "canny = cv.Canny(warped, 30, 100, apertureSize=3)\n",
        "\n",
        "# 霍夫找圆\n",
        "\n",
        "# 找到小圆，定位当前图片位置\n",
        "circles = cv.HoughCircles(canny, method=cv.HOUGH_GRADIENT, dp=1, minDist=100\n",
        "                          , param1=30, param2=20, minRadius=1, maxRadius=20)\n",
        "\n",
        "small_circle = None\n",
        "for circle in circles[0]:\n",
        "    # cv.circle(warped, (int(circle[0]), int(circle[1])), radius=int(circle[2]), color=(255, 255, 0), thickness=2)\n",
        "    small_circle = circle\n",
        "    break\n",
        "# 以小圆作为标志物，对图片进行旋转，使得小圆总是出现在右下角\n",
        "warped_width = warped.shape[0]\n",
        "warped_height = warped.shape[1]\n",
        "if small_circle[0] < warped_width / 2 and small_circle[1] < warped_height / 2:\n",
        "    # 当前小圆处于左上，旋转180\n",
        "    warped = cv.rotate(warped, cv.ROTATE_180)\n",
        "    canny = cv.rotate(canny, cv.ROTATE_180)\n",
        "elif small_circle[0] < warped_width / 2 and small_circle[1] > warped_height / 2:\n",
        "    # 说明在左下需要进行水平flib\n",
        "    warped = cv.flip(warped, 1)  # 水平翻转\n",
        "    canny = cv.flip(canny, 1)  # 水平翻转\n",
        "\n",
        "elif small_circle[0] > warped_width / 2 and small_circle[1] < warped_height / 2:\n",
        "    # 说明在右上，需要进行垂直翻转\n",
        "    warped = cv.flip(warped, 0)\n",
        "    canny = cv.flip(canny, 0)\n",
        "\n",
        "\n",
        "# 再找一次经过调整后的小圆位置\n",
        "circles = cv.HoughCircles(canny, method=cv.HOUGH_GRADIENT, dp=1, minDist=100\n",
        "                          , param1=30, param2=20, minRadius=1, maxRadius=20)\n",
        "for circle in circles[0]:\n",
        "    cv.circle(warped, (int(circle[0]), int(circle[1])), radius=int(circle[2]), color=(0, 0, 255), thickness=2)\n",
        "    small_circle = circle\n",
        "    break\n",
        "\n",
        "# 找到大圆\n",
        "circles = cv.HoughCircles(canny, method=cv.HOUGH_GRADIENT, dp=2, minDist=20\n",
        "                          , param1=90, param2=90, minRadius=1, maxRadius=80)\n",
        "# print(circles)\n",
        "big_circle = None\n",
        "for circle in circles[0]:\n",
        "    cv.circle(warped, (int(circle[0]), int(circle[1])), radius=int(circle[2]), color=(0, 0, 255), thickness=2)\n",
        "    big_circle = circle\n",
        "    break\n",
        "\n",
        "print(\"找到的大圆坐标\", big_circle, \" 找到的小圆坐标\", small_circle)\n",
        "# 画出两个圆之间的距离,即a\n",
        "cv.line(warped,(int(big_circle[0]),int(big_circle[1])),(int(small_circle[0]),int(small_circle[1])),color=(0,0,0),thickness=2)\n",
        "\n",
        "imshow(warped)"
      ],
      "metadata": {
        "colab": {
          "base_uri": "https://localhost:8080/",
          "height": 219
        },
        "id": "pxauq1WG02uu",
        "outputId": "5c7d766e-f7d5-4ef2-a44d-61f6eaef4c2a"
      },
      "execution_count": 509,
      "outputs": [
        {
          "output_type": "stream",
          "name": "stdout",
          "text": [
            "找到的大圆坐标 [249.   45.   33.8]  找到的小圆坐标 [271.5 167.5   8. ]\n"
          ]
        },
        {
          "output_type": "display_data",
          "data": {
            "text/plain": [
              "<PIL.Image.Image image mode=RGB size=290x185 at 0x7FAB263B8690>"
            ],
            "image/png": "[encoded data removed]"
          },
          "metadata": {}
        }
      ]
    },
    {
      "cell_type": "code",
      "source": [
        "# warped = origin_wapred\n",
        "# 求长条圆柱\n",
        "warped_cycle = warped[warped_width-warped_width//4:warped_width-warped_width//10, warped_height//2-warped_height//7:warped_height//2+warped_height//3].copy()\n",
        "warped_cycle_canny = cv.Canny(warped_cycle, 30, 100, apertureSize=3)\n",
        "imshow(warped_cycle_canny)\n",
        "# 求e\n",
        "contoures, _ = cv.findContours(warped_cycle_canny, cv.RETR_EXTERNAL, cv.CHAIN_APPROX_SIMPLE)\n",
        "for cnt in contoures:\n",
        "    cnt_len = cv.arcLength(cnt, True)  # 计算轮廓周长\n",
        "    cnt = cv.approxPolyDP(cnt, 0.02 * cnt_len, True)  # 多边形逼近\n",
        "    # print(cv.contourArea(cnt))\n",
        "    if cv.contourArea(cnt) > 200:\n",
        "        # print(cv.contourArea(cnt))\n",
        "        cnt = cv.minAreaRect(cnt)\n",
        "        data = np.array(cv.boxPoints(cnt), int)\n",
        "        cnt = cv.boxPoints(cnt)\n",
        "        box_height = int(np.sqrt(\n",
        "            (cnt[1][0] - cnt[0][0]) ** 2 + (\n",
        "                    cnt[1][1] - cnt[0][1]) ** 2))\n",
        "        box_width = int(np.sqrt(\n",
        "            (cnt[1][0] - cnt[2][0]) ** 2 + (\n",
        "                    cnt[1][1] - cnt[2][1]) ** 2))\n",
        "        # if box_width > box_height:\n",
        "        #   # 说明需要互换\n",
        "        #   temp = box_width\n",
        "        #   box_width = box_height\n",
        "        #   box_height = temp\n",
        "        left_top,right_top,left_bottem,right_bottem = return_rect_position(cnt)\n",
        "        if box_height < box_width:\n",
        "          temp = box_height\n",
        "          box_height = box_width\n",
        "          box_width = temp\n",
        "        print(\"矩形宽高：\",box_height,box_width)\n",
        "\n",
        "        # 得到左圆\n",
        "        left_circle_center = (int(left_top[0]+box_width/2),int(left_top[1]+box_width/2))\n",
        "        # print(\"warped_cycle_canny:\",left_circle_center)\n",
        "        # cv.circle(warped_cycle_canny, left_circle_center, radius=int(box_width/2), color=(255, 255, 0), thickness=1)\n",
        "        cv.circle(warped, (warped_height//2-warped_height//7+left_circle_center[0],warped_width-warped_width//4+left_circle_center[1]), radius=int(box_width/2), color=(255, 255, 0), thickness=1)\n",
        "\n",
        "        # 得到右圆\n",
        "        right_circle_center = (int(right_bottem[0] - box_width / 2), int(right_bottem[1] - box_width / 2))\n",
        "        # print(\"warped_cycle_canny:\", right_circle_center)\n",
        "        # cv.circle(warped_cycle_canny, right_circle_center, radius=int(box_width/2), color=(0, 255, 255), thickness=1)\n",
        "        cv.circle(warped, (warped_height//2-warped_height//7+right_circle_center[0],warped_width-warped_width//4+right_circle_center[1]), radius=int(box_width/2), color=(255, 255, 0), thickness=1)\n",
        "\n",
        "\n",
        "        cv.line(warped,(warped_height//2-warped_height//7+left_circle_center[0],warped_width-warped_width//4+left_circle_center[1]),\n",
        "                (warped_height//2-warped_height//7+right_circle_center[0],warped_width-warped_width//4+right_circle_center[1]),\n",
        "                color=(255, 0, 255),thickness=1)\n",
        "        print(\"e:\",box_height-box_width)\n",
        "        # print(cnt[1][0] ,cnt[0][0])\n",
        "        # # 得到居中的位置\n",
        "        # center_point = (int(cnt[1][0] + cnt[0][0]) // 2, int(cnt[1][1] + cnt[0][1]) // 2)\n",
        "        # print(box_height,box_width)\n",
        "        # # cv.circle(warped, (warped_height//2-warped_height//7+center_point[0],center_point[1]), radius=10, color=(255, 255, 0), thickness=1)\n",
        "        # cv.line(warped, (warped_height // 2 - warped_height // 7 + center_point[0], 0),\n",
        "        #         (warped_height // 2 - warped_height // 7 + center_point[0], center_point[1]), color=(255, 0, 255),\n",
        "        #         thickness=1)\n",
        "        # print(\"b:\", center_point[1])\n",
        "        break\n",
        "imshow(warped)"
      ],
      "metadata": {
        "colab": {
          "base_uri": "https://localhost:8080/",
          "height": 299
        },
        "id": "8K4md5tA2DkX",
        "outputId": "5d2cae5b-b39e-4da5-8d9c-24852dc08dde"
      },
      "execution_count": 510,
      "outputs": [
        {
          "output_type": "display_data",
          "data": {
            "text/plain": [
              "<PIL.Image.Image image mode=L size=137x28 at 0x7FAB25BA9150>"
            ],
            "image/png": "[encoded data removed]"
          },
          "metadata": {}
        },
        {
          "output_type": "stream",
          "name": "stdout",
          "text": [
            "[20.810095   4.8247705  8.220182  24.205507 ]\n",
            "1.7330246 114.26606 4.8247705 24.205507\n",
            "矩形宽高： 112 15\n",
            "e: 97\n"
          ]
        },
        {
          "output_type": "display_data",
          "data": {
            "text/plain": [
              "<PIL.Image.Image image mode=RGB size=290x185 at 0x7FAB25B64AD0>"
            ],
            "image/png": "[encoded data removed]"
          },
          "metadata": {}
        }
      ]
    },
    {
      "cell_type": "code",
      "source": [
        "# 长得像钥匙。\n",
        "warped_key = warped[0:warped_width-warped_width//4, warped_height//2-warped_height//7:warped_height//2+warped_height//7].copy()\n",
        "warped_key_canny = cv.Canny(warped_key, 30, 100, apertureSize=3)\n",
        "imshow(warped_key_canny)\n",
        "# 求上下高度b\n",
        "contoures, _ = cv.findContours(warped_key_canny, cv.RETR_EXTERNAL, cv.CHAIN_APPROX_SIMPLE)\n",
        "for cnt in contoures:\n",
        "    cnt_len = cv.arcLength(cnt, True)  # 计算轮廓周长\n",
        "    cnt = cv.approxPolyDP(cnt, 0.02 * cnt_len, True)  # 多边形逼近\n",
        "    print(cv.contourArea(cnt))\n",
        "    if cv.contourArea(cnt) > 1000:\n",
        "        cnt = cv.minAreaRect(cnt)\n",
        "        data = np.array(cv.boxPoints(cnt), int)\n",
        "        cnt = cv.boxPoints(cnt)\n",
        "        box_height = int(np.sqrt(\n",
        "            (cnt[1][0] - cnt[0][0]) ** 2 + (\n",
        "                        cnt[1][1] - cnt[0][1]) ** 2))\n",
        "        box_width = int(np.sqrt(\n",
        "            (cnt[1][0] - cnt[2][0]) ** 2 + (\n",
        "                        cnt[1][1] - cnt[2][1]) ** 2))\n",
        "        if box_height > box_width:\n",
        "          temp = box_height\n",
        "          box_height = box_width\n",
        "          box_width = temp\n",
        "        print(\"矩形宽高：\",box_height,box_width)\n",
        "        left_top,right_top,left_bottem,right_bottem = return_rect_position(cnt)\n",
        "        # 得到居中的位置,这里还是要判断那边是右边。\n",
        "        center_point = (int(right_top[0] + left_top[0])//2,int(left_top[1] + right_top[1])//2)\n",
        "        # print(center_point)\n",
        "        # cv.circle(warped, (warped_height//2-warped_height//7+center_point[0],center_point[1]), radius=10, color=(255, 255, 0), thickness=1)\n",
        "        cv.line(warped,(warped_height//2-warped_height//7+center_point[0],0),(warped_height//2-warped_height//7+center_point[0],center_point[1]),color=(255,0,255),thickness=1)\n",
        "        print(\"b:\",center_point[1])\n",
        "        break\n",
        "imshow(warped)"
      ],
      "metadata": {
        "colab": {
          "base_uri": "https://localhost:8080/",
          "height": 480
        },
        "id": "D4ETKOvS2I0I",
        "outputId": "d17057b8-1d45-436e-e564-15652760164b"
      },
      "execution_count": 511,
      "outputs": [
        {
          "output_type": "display_data",
          "data": {
            "text/plain": [
              "<PIL.Image.Image image mode=L size=82x139 at 0x7FAB25BBA1D0>"
            ],
            "image/png": "[encoded data removed]"
          },
          "metadata": {}
        },
        {
          "output_type": "stream",
          "name": "stdout",
          "text": [
            "10.5\n",
            "0.0\n",
            "0.0\n",
            "3426.0\n",
            "矩形宽高： 44 110\n",
            "[121.67068   11.416908  12.513634 122.7674  ]\n",
            "27.662453 74.80213 11.416908 122.7674\n",
            "b: 11\n"
          ]
        },
        {
          "output_type": "display_data",
          "data": {
            "text/plain": [
              "<PIL.Image.Image image mode=RGB size=290x185 at 0x7FAB25BA6FD0>"
            ],
            "image/png": "[encoded data removed]"
          },
          "metadata": {}
        }
      ]
    },
    {
      "cell_type": "code",
      "source": [
        "\n",
        "# \n",
        "warped_left = warped[5:137, 5:116].copy()\n",
        "gray = cv.cvtColor(warped_left, cv.COLOR_BGR2GRAY)\n",
        "warped_left_canny = cv.Canny(gray, 30, 100, apertureSize=3)\n",
        "# gray =cv.adaptiveThreshold(gray,255,cv.ADAPTIVE_THRESH_MEAN_C ,cv.THRESH_BINARY, 41, 6)\n",
        "imshow(warped_left_canny)\n",
        "\n",
        "contoures, _ = cv.findContours(warped_left_canny, cv.RETR_EXTERNAL, cv.CHAIN_APPROX_SIMPLE)\n",
        "for cnt in contoures:\n",
        "    cnt_len = cv.arcLength(cnt, True)  # 计算轮廓周长\n",
        "    cnt = cv.approxPolyDP(cnt, 0.02 * cnt_len, True)  # 多边形逼近\n",
        "    print(cv.contourArea(cnt))\n",
        "    if cv.contourArea(cnt) > 5000:\n",
        "        cnt = cv.minAreaRect(cnt)\n",
        "        print(cnt_len)\n",
        "        data = np.array(cv.boxPoints(cnt), int)\n",
        "        cnt = cv.boxPoints(cnt)\n",
        "        box_height = int(np.sqrt(\n",
        "            (cnt[1][0] - cnt[0][0]) ** 2 + (\n",
        "                        cnt[1][1] - cnt[0][1]) ** 2))\n",
        "        box_width = int(np.sqrt(\n",
        "            (cnt[1][0] - cnt[2][0]) ** 2 + (\n",
        "                        cnt[1][1] - cnt[2][1]) ** 2))\n",
        "        \n",
        "        if box_height > box_width:\n",
        "          temp = box_height\n",
        "          box_height = box_width\n",
        "          box_width = temp\n",
        "        print(\"矩形宽高：\",box_height,box_width)\n",
        "\n",
        "        # print(box_height,box_width,cnt,cnt.shape)\n",
        "        left_top,right_top,left_bottem,right_bottem = return_rect_position(cnt)\n",
        "        # 得到居中的位置,这里还是要判断那边是右边。\n",
        "        left_center_point = (left_top+left_bottem)//2\n",
        "        print(left_center_point)\n",
        "        right_center_point = ((right_top+right_bottem)//2)\n",
        "        right_center_point[0] = right_center_point[0]-((cnt_len - 2*box_height - 2*box_width)/2)\n",
        "\n",
        "        cv.circle(warped_left,[int(left_center_point[0]),int(left_center_point[1])] , radius=10, color=(255, 255, 0), thickness=1)\n",
        "        cv.circle(warped_left,[int(right_center_point[0]),int(right_center_point[1])] , radius=10, color=(255, 255, 0), thickness=1)\n",
        "        cv.line(warped_left,[int(left_center_point[0]),int(left_center_point[1])],[int(right_center_point[0]),int(right_center_point[1])],color=(255,0,255),thickness=1)\n",
        "        print(\"c:\",np.sqrt(np.sum((left_center_point-right_center_point)**2)))\n",
        "        cv.line(warped,[5+int(left_center_point[0]),5+int(left_center_point[1])],[5+int(right_center_point[0]),5+int(right_center_point[1])],color=(255,0,255),thickness=1)\n",
        "        break\n",
        "imshow(warped_left)\n",
        "imshow(warped)"
      ],
      "metadata": {
        "colab": {
          "base_uri": "https://localhost:8080/",
          "height": 605
        },
        "id": "sB93-dEM5WXk",
        "outputId": "40ca3caa-1b9a-4136-85ca-01adbc127d02"
      },
      "execution_count": 512,
      "outputs": [
        {
          "output_type": "display_data",
          "data": {
            "text/plain": [
              "<PIL.Image.Image image mode=L size=111x132 at 0x7FAB25B59110>"
            ],
            "image/png": "[encoded data removed]"
          },
          "metadata": {}
        },
        {
          "output_type": "stream",
          "name": "stdout",
          "text": [
            "0.0\n",
            "7331.0\n",
            "410.02438485622406\n",
            "矩形宽高： 75 109\n",
            "[112.          2.9999967   7.141144  116.14114  ]\n",
            "20.0 101.23076 2.9999967 116.14114\n",
            "[23. 57.]\n",
            "c: 54.135788\n"
          ]
        },
        {
          "output_type": "display_data",
          "data": {
            "text/plain": [
              "<PIL.Image.Image image mode=RGB size=111x132 at 0x7FAB25B8F250>"
            ],
            "image/png": "[encoded data removed]"
          },
          "metadata": {}
        },
        {
          "output_type": "display_data",
          "data": {
            "text/plain": [
              "<PIL.Image.Image image mode=RGB size=290x185 at 0x7FAB25B59250>"
            ],
            "image/png": "[encoded data removed]"
          },
          "metadata": {}
        }
      ]
    },
    {
      "cell_type": "markdown",
      "source": [
        "先分别求取线斜率K1，K2，然后带进公式计算角度。\n",
        "假设k1为垂直直线，则k1恒等于0\n",
        "则angle = atan(k2) * 180 / PI\n",
        "k = (k2 - k1) / (1 + k1*k2);\n",
        "angle = atan(k) * 180 / PI;\n",
        "\n"
      ],
      "metadata": {
        "id": "yUDpT1D7TW7d"
      }
    },
    {
      "cell_type": "code",
      "source": [
        "\n",
        "# \n",
        "warped_bottem = warped[-50:, :50].copy()\n",
        "gray = cv.cvtColor(warped_bottem, cv.COLOR_BGR2GRAY)\n",
        "warped_bottem_canny = cv.Canny(gray, 30, 100, apertureSize=3)\n",
        "# gray =cv.adaptiveThreshold(gray,255,cv.ADAPTIVE_THRESH_MEAN_C ,cv.THRESH_BINARY, 41, 6)\n",
        "imshow(warped_bottem_canny)\n",
        "\n",
        "# lines = cv.HoughLinesP(warped_bottem_canny,1, np.pi / 180, 1, 100, 2)\n",
        "# print(lines)\n",
        "\n",
        "left_point = None\n",
        "right_point = None\n",
        "\n",
        "for y in range(50):\n",
        "  cv.circle(warped_bottem,(5,y) , radius=1, color=(255, 255, 0), thickness=1)\n",
        "  if warped_bottem_canny[5][y] > 200:\n",
        "    left_point = (5,y)\n",
        "    break\n",
        "\n",
        "for x in range(50):\n",
        "  if warped_bottem_canny[49-x][25] == 255:\n",
        "    right_point = (49-x,25)\n",
        "    break\n",
        "\n",
        "print(left_point,right_point)\n",
        "k = (right_point[1] - left_point[1])/(right_point[0] - left_point[0])\n",
        "print(\"计算的斜率为：\",k)\n",
        "print(\"角度为：\",90-abs(np.arctan(k)*180/np.pi))\n",
        "cv.circle(warped_bottem,left_point , radius=1, color=(255, 255, 0), thickness=1)\n",
        "cv.circle(warped_bottem,right_point , radius=1, color=(255, 255, 0), thickness=1)\n",
        "\n",
        "# for line in lines:\n",
        "#   cv.line(warped_bottem,[line[0][0],line[0][1]],[line[0][2],line[0][3]],color=(255,0,255),thickness=1)\n",
        "\n",
        "imshow(warped_bottem)"
      ],
      "metadata": {
        "colab": {
          "base_uri": "https://localhost:8080/",
          "height": 169
        },
        "id": "A6cVXrr3EGCi",
        "outputId": "8312609e-65ca-4640-93a7-1d86166ad1d3"
      },
      "execution_count": 513,
      "outputs": [
        {
          "output_type": "display_data",
          "data": {
            "text/plain": [
              "<PIL.Image.Image image mode=L size=50x50 at 0x7FAB25D08E90>"
            ],
            "image/png": "[encoded data removed]"
          },
          "metadata": {}
        },
        {
          "output_type": "stream",
          "name": "stdout",
          "text": [
            "(5, 37) (23, 25)\n",
            "计算的斜率为： -0.6666666666666666\n",
            "角度为： 56.309932474020215\n"
          ]
        },
        {
          "output_type": "display_data",
          "data": {
            "text/plain": [
              "<PIL.Image.Image image mode=RGB size=50x50 at 0x7FAB25C40510>"
            ],
            "image/png": "[encoded data removed]"
          },
          "metadata": {}
        }
      ]
    },
    {
      "cell_type": "code",
      "source": [],
      "metadata": {
        "id": "2NoMJC_ejhCq"
      },
      "execution_count": 453,
      "outputs": []
    }
  ]
}